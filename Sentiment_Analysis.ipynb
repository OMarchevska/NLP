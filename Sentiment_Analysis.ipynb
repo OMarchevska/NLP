{
 "cells": [
  {
   "cell_type": "markdown",
   "id": "17fad27e-5a39-44e2-a2ef-327e2bed98cf",
   "metadata": {},
   "source": [
    "# Sentiment Analysis using Movie Reviews Dataset\n"
   ]
  },
  {
   "cell_type": "markdown",
   "id": "a96a81da-0bda-4975-932c-6dcaebce31ba",
   "metadata": {},
   "source": [
    "## Imports"
   ]
  },
  {
   "cell_type": "code",
   "execution_count": null,
   "id": "69047b08-016d-4fbf-9f6a-a3bc03b03ed4",
   "metadata": {},
   "outputs": [],
   "source": []
  },
  {
   "cell_type": "code",
   "execution_count": null,
   "id": "b6f0afe9-757b-49b2-a8d0-b4b871021f99",
   "metadata": {},
   "outputs": [],
   "source": []
  },
  {
   "cell_type": "code",
   "execution_count": null,
   "id": "84284e8b-9ceb-471c-b59f-f612823e254d",
   "metadata": {},
   "outputs": [],
   "source": []
  }
 ],
 "metadata": {
  "kernelspec": {
   "display_name": "Python 3 (ipykernel)",
   "language": "python",
   "name": "python3"
  },
  "language_info": {
   "codemirror_mode": {
    "name": "ipython",
    "version": 3
   },
   "file_extension": ".py",
   "mimetype": "text/x-python",
   "name": "python",
   "nbconvert_exporter": "python",
   "pygments_lexer": "ipython3",
   "version": "3.11.7"
  }
 },
 "nbformat": 4,
 "nbformat_minor": 5
}
