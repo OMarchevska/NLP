{
 "cells": [
  {
   "cell_type": "markdown",
   "id": "17fad27e-5a39-44e2-a2ef-327e2bed98cf",
   "metadata": {},
   "source": [
    "# Sentiment Analysis using Movie Reviews Dataset\n"
   ]
  },
  {
   "cell_type": "markdown",
   "id": "a96a81da-0bda-4975-932c-6dcaebce31ba",
   "metadata": {},
   "source": [
    "## Imports"
   ]
  },
  {
   "cell_type": "code",
   "execution_count": 1,
   "id": "5e6a50b9-ec08-43d7-9d83-3858f6f10aba",
   "metadata": {},
   "outputs": [
    {
     "name": "stdout",
     "output_type": "stream",
     "text": [
      "\u001b[31mERROR: pip's dependency resolver does not currently take into account all the packages that are installed. This behaviour is the source of the following dependency conflicts.\n",
      "tensorflow 2.15.0 requires keras<2.16,>=2.15.0, but you have keras 3.0.5 which is incompatible.\u001b[0m\u001b[31m\n",
      "\u001b[0m"
     ]
    }
   ],
   "source": [
    "# after installation and upgrade kernel restart needed\n",
    "!pip install -q --upgrade keras-nlp\n",
    "!pip install -q --upgrade keras"
   ]
  },
  {
   "cell_type": "code",
   "execution_count": 4,
   "id": "69047b08-016d-4fbf-9f6a-a3bc03b03ed4",
   "metadata": {},
   "outputs": [
    {
     "data": {
      "text/plain": [
       "[PhysicalDevice(name='/physical_device:CPU:0', device_type='CPU'),\n",
       " PhysicalDevice(name='/physical_device:GPU:0', device_type='GPU')]"
      ]
     },
     "execution_count": 4,
     "metadata": {},
     "output_type": "execute_result"
    }
   ],
   "source": [
    "import os\n",
    "os.environ['TF_CPP_MIN_LOG_LEVEL'] = '3' \n",
    "\n",
    "from datetime import datetime\n",
    "import keras_nlp\n",
    "import numpy as np\n",
    "import shutil\n",
    "import tensorflow as tf\n",
    "from transformers import pipeline\n",
    "\n",
    "tf.config.list_physical_devices()"
   ]
  },
  {
   "cell_type": "code",
   "execution_count": 5,
   "id": "b6f0afe9-757b-49b2-a8d0-b4b871021f99",
   "metadata": {},
   "outputs": [],
   "source": [
    "# matplotlib settings\n",
    "import matplotlib as mpl\n",
    "import matplotlib.pyplot as plt\n",
    "#import seaborn as sns\n",
    "\n",
    "plt.rc('font', size=10)\n",
    "plt.rc('axes', labelsize=10, titlesize=12)\n",
    "plt.rc('legend', fontsize=9)\n",
    "plt.rc('xtick', labelsize=8)\n",
    "plt.rc('ytick', labelsize=8)"
   ]
  },
  {
   "cell_type": "markdown",
   "id": "0da6f166-3225-44af-9069-bd5c30c0c78d",
   "metadata": {},
   "source": [
    "## Dataset"
   ]
  },
  {
   "cell_type": "code",
   "execution_count": 6,
   "id": "51388b14-e465-4479-95a8-da5a69eb33f5",
   "metadata": {},
   "outputs": [
    {
     "data": {
      "text/plain": [
       "['train', 'imdb.vocab', 'test', 'README', 'imdbEr.txt']"
      ]
     },
     "execution_count": 6,
     "metadata": {},
     "output_type": "execute_result"
    }
   ],
   "source": [
    "url = 'https://ai.stanford.edu/~amaas/data/sentiment/aclImdb_v1.tar.gz'\n",
    "\n",
    "dataset = tf.keras.utils.get_file('aclImdb_v1.tar.gz', url,\n",
    "                                  untar=True, cache_dir='.',\n",
    "                                  cache_subdir='')\n",
    "\n",
    "dataset_dir = os.path.join(os.path.dirname(dataset), \"aclImdb\")\n",
    "os.listdir(dataset_dir)"
   ]
  },
  {
   "cell_type": "code",
   "execution_count": 7,
   "id": "a2d5fff0-6886-4513-af17-cff7e8c3f5f6",
   "metadata": {},
   "outputs": [
    {
     "data": {
      "text/plain": [
       "['urls_pos.txt',\n",
       " 'urls_unsup.txt',\n",
       " 'neg',\n",
       " 'urls_neg.txt',\n",
       " 'labeledBow.feat',\n",
       " 'unsupBow.feat',\n",
       " 'pos',\n",
       " 'unsup']"
      ]
     },
     "execution_count": 7,
     "metadata": {},
     "output_type": "execute_result"
    }
   ],
   "source": [
    "# set training and testing data paths\n",
    "train_dir = os.path.join(dataset_dir, \"train\")\n",
    "test_dir = os.path.join(dataset_dir, \"test\")\n",
    "\n",
    "os.listdir(train_dir)"
   ]
  },
  {
   "cell_type": "code",
   "execution_count": 8,
   "id": "9a3b3a51-3b18-43b1-81a6-62fb518439dc",
   "metadata": {},
   "outputs": [],
   "source": [
    "# remove unused folders to make it easier to load the data\n",
    "remove_dir = os.path.join(train_dir, 'unsup')\n",
    "shutil.rmtree(remove_dir)"
   ]
  },
  {
   "cell_type": "code",
   "execution_count": 9,
   "id": "136cbb92-f34d-4bb0-8009-efcce08f84b5",
   "metadata": {},
   "outputs": [
    {
     "name": "stdout",
     "output_type": "stream",
     "text": [
      "Found 25000 files belonging to 2 classes.\n",
      "Using 20000 files for training.\n",
      "Found 25000 files belonging to 2 classes.\n",
      "Using 5000 files for validation.\n",
      "Found 25000 files belonging to 2 classes.\n",
      "\n",
      "Class names: ['neg', 'pos']\n"
     ]
    }
   ],
   "source": [
    "# create datasets\n",
    "AUTOTUNE = tf.data.AUTOTUNE\n",
    "batch_size = 32\n",
    "seed = 42\n",
    "\n",
    "train_ds = tf.keras.utils.text_dataset_from_directory(\n",
    "    train_dir, batch_size=batch_size, validation_split=0.2,\n",
    "    subset='training', seed=seed)\n",
    "\n",
    "val_ds = tf.keras.utils.text_dataset_from_directory(\n",
    "    train_dir, batch_size=batch_size, validation_split=0.2,\n",
    "    subset='validation', seed=seed)\n",
    "\n",
    "test_ds = tf.keras.utils.text_dataset_from_directory(\n",
    "    test_dir, batch_size=batch_size)\n",
    "\n",
    "class_labels = train_ds.class_names\n",
    "print(\"\\nClass names:\", class_labels)\n",
    "\n",
    "# configure datasets for performance\n",
    "train_ds = train_ds.cache().prefetch(tf.data.AUTOTUNE)\n",
    "val_ds = val_ds.cache().prefetch(tf.data.AUTOTUNE)\n",
    "test_ds = test_ds.cache().prefetch(tf.data.AUTOTUNE)"
   ]
  },
  {
   "cell_type": "code",
   "execution_count": 10,
   "id": "e4a2491e-34b5-4ec5-bb47-05504aa305a0",
   "metadata": {},
   "outputs": [
    {
     "name": "stdout",
     "output_type": "stream",
     "text": [
      "\n",
      "Review: b'\"Pandemonium\" is a horror movie spoof that comes off more stupid than funny. Believe me when I tell you, I love comedies. Especially comedy spoofs. \"Airplane\", \"The Naked Gun\" trilogy, \"Blazing Saddles\", \"High Anxiety\", and \"Spaceballs\" are some of my favorite comedies that spoof a particular genre. \"Pandemonium\" is not up there with those films. Most of the scenes in this movie had me sitting there in stunned silence because the movie wasn\\'t all that funny. There are a few laughs in the film, but when you watch a comedy, you expect to laugh a lot more than a few times and that\\'s all this film has going for it. Geez, \"Scream\" had more laughs than this film and that was more of a horror film. How bizarre is that?<br /><br />*1/2 (out of four)'\n",
      "Label: neg: (0)\n",
      "\n",
      "Review: b\"David Mamet is a very interesting and a very un-equal director. His first movie 'House of Games' was the one I liked best, and it set a series of films with characters whose perspective of life changes as they get into complicated situations, and so does the perspective of the viewer.<br /><br />So is 'Homicide' which from the title tries to set the mind of the viewer to the usual crime drama. The principal characters are two cops, one Jewish and one Irish who deal with a racially charged area. The murder of an old Jewish shop owner who proves to be an ancient veteran of the Israeli Independence war triggers the Jewish identity in the mind and heart of the Jewish detective.<br /><br />This is were the flaws of the film are the more obvious. The process of awakening is theatrical and hard to believe, the group of Jewish militants is operatic, and the way the detective eventually walks to the final violent confrontation is pathetic. The end of the film itself is Mamet-like smart, but disappoints from a human emotional perspective.<br /><br />Joe Mantegna and William Macy give strong performances, but the flaws of the story are too evident to be easily compensated.\"\n",
      "Label: neg: (0)\n",
      "\n",
      "Review: b'Great documentary about the lives of NY firefighters during the worst terrorist attack of all time.. That reason alone is why this should be a must see collectors item.. What shocked me was not only the attacks, but the\"High Fat Diet\" and physical appearance of some of these firefighters. I think a lot of Doctors would agree with me that,in the physical shape they were in, some of these firefighters would NOT of made it to the 79th floor carrying over 60 lbs of gear. Having said that i now have a greater respect for firefighters and i realize becoming a firefighter is a life altering job. The French have a history of making great documentary\\'s and that is what this is, a Great Documentary.....'\n",
      "Label: pos: (1)\n",
      "\n",
      "Review: b\"It's boggles the mind how this movie was nominated for seven Oscars and won one. Not because it's abysmal or because given the collective credentials of the creative team behind it really ought to deserve them but because in every category it was nominated Prizzi's Honor disappoints. Some would argue that old Hollywood pioneer John Huston had lost it by this point in his career but I don't buy it. Only the previous year he signed the superb UNDER THE VOLCANO, a dark character study set in Mexico, that ranks among the finest he ever did. Prizzi's Honor on the other hand, a film loaded with star power, good intentions and a decent script, proves to be a major letdown.<br /><br />The overall tone and plot of a gangster falling in love with a female hit-man prefigures the quirky crimedies that caught Hollywood by storm in the early 90's but the script is too convoluted for its own sake, the motivations are off and on the whole the story seems unsure of what exactly it's trying to be: a romantic comedy, a crime drama, a gangster saga etc. Jack Nicholson (doing a Brooklyn accent that works perfectly for De Niro but sounds unconvincing coming from Jack) and Kathleen Turner in the leading roles seem to be in paycheck mode, just going through the motions almost sleepwalking their way through some parts. Anjelica Huston on the other hand fares better but her performance is sabotaged by her character's motivations: she starts out the victim of her bigot father's disdain, she proves to be supportive to her ex-husband, then becomes a vindictive bitch that wants his head on a plate.<br /><br />The colours of the movie have a washed-up quality like it was made in the early 70's and Huston's direction is as uninteresting as everything else. There's promise behind the story and perhaps in the hands of a director hungry to be recognized it could've been morphed to something better but what's left looks like a film nobody was really interested in making.\"\n",
      "Label: neg: (0)\n",
      "\n",
      "Review: b'The concept of the legal gray area in Love Crimes contributes to about 10% of the movie\\'s appeal; the other 90% can be attributed to it\\'s flagrant bad-ness. To say that Sean Young\\'s performance as a so-called district attorney is wooden is a gross understatement. With her bland suits and superfluous hair gel, Young does a decent job at convincing the audience of her devout hatred for men. Why else would she ask her only friend to pose as a prostitute just so she can arrest cops who try to pick up on them? This hatred is also the only reason why she relentlessly pursues a perverted photographer who gives women a consensual thrill and the driving force behind this crappy movie. Watching Young go from frigid to full-frontal nudity does little to raise interest, but the temper tantrum she throws standing next to a fire by a lake does. Watching her rant and rave about her self-loathing and sexual frustration makes Love Crimes worth the rental fee, but it\\'s all downhill to and from there. Despite her urge to bring Patrick Bergin\\'s character to justice, her policing skills completely escape her in the throes of her own tired lust and passion. Patrick Bergin does a decent enough job as a slimy sociopath; if it worked in Sleeping With the Enemy it sure as hell can work in this. But I can\\'t help but wonder if the noticeable lack of energy Young brings to the film conflicts with his sliminess. I\\'m guessing it does and the result is a \"thriller\" with thrills that are thoroughly bad and yet comedic.'\n",
      "Label: neg: (0)\n"
     ]
    }
   ],
   "source": [
    "# data examples\n",
    "for review, label in train_ds.take(1):\n",
    "    for i in range(5):\n",
    "        print(f\"\\nReview: {review[i]}\")\n",
    "        print(f\"Label: {class_labels[label[i]]}: ({label[i]})\")"
   ]
  },
  {
   "cell_type": "markdown",
   "id": "739cf897-3322-4548-8af4-c70a8b04f924",
   "metadata": {},
   "source": [
    "## Inference"
   ]
  },
  {
   "cell_type": "markdown",
   "id": "edd5f81a-4017-4943-aee4-4dd719db2522",
   "metadata": {},
   "source": [
    "Map review sentiment predictions to the sentiment range from -1 to 1: from negative (-1), neutral(0), to positive(+1)."
   ]
  },
  {
   "cell_type": "code",
   "execution_count": 11,
   "id": "9409fcdf-78aa-4226-a910-71e43ab0dddc",
   "metadata": {},
   "outputs": [],
   "source": [
    "# helper functions\n",
    "def make_prediction(raw_review, model):\n",
    "    \"\"\"Args: \n",
    "    - raw_review: a single review of str type;\n",
    "    - model: fine-tuned model.\n",
    "    Outputs:\n",
    "    - sentiment: a scalar that maps predicted review sentiments\n",
    "    to fall into range [-1, 1].\"\"\"\n",
    "    # convert a raw review into a tensor + batch dimension\n",
    "    review = tf.expand_dims(tf.constant(raw_review), axis=0)\n",
    "    # 2 neurons in the output layer, take the output of only 1 of them\n",
    "    pred = model.predict(review, verbose=0)[:, 1]\n",
    "    sentiment = tf.nn.tanh(pred)\n",
    "    return sentiment.numpy()\n",
    "\n",
    "def plot_bar(prediction):\n",
    "    \"\"\"Given a single scalar prediction plots it in a \n",
    "    colormap of a range [-1, 1].\"\"\"\n",
    "    fig, ax = plt.subplots(figsize=(6, 1))\n",
    "    fig.subplots_adjust(bottom=0.5)\n",
    "    cmap = mpl.cm.bwr\n",
    "    norm = mpl.colors.Normalize(vmin=-1, vmax=1)\n",
    "    ticks = [\"negative\", \"neutral\", \"positive\"]\n",
    "    bounds = [-1., 0.0, 1.0]\n",
    "    cb1 = mpl.colorbar.ColorbarBase(ax, cmap=cmap,\n",
    "                                    norm=norm,\n",
    "                                    ticks=bounds,\n",
    "                                    orientation='horizontal')\n",
    "    cb1.ax.axvline(prediction, c='green', linewidth=3)\n",
    "    cb1.ax.text(prediction, 1.1, s=\"prediction: \"+str(round(prediction[0], 2)), \n",
    "                horizontalalignment=\"center\", fontsize=9, c=\"green\")\n",
    "    cb1.set_ticklabels(ticks)\n",
    "    cb1.set_label('Sentiment Scale')"
   ]
  },
  {
   "cell_type": "code",
   "execution_count": 12,
   "id": "33c88f1e-88f9-423d-80fd-43857ce80ba7",
   "metadata": {},
   "outputs": [
    {
     "name": "stderr",
     "output_type": "stream",
     "text": [
      "/home/omarchevska/miniconda3/envs/ml/lib/python3.11/site-packages/keras/src/saving/serialization_lib.py:727: UserWarning: `compile()` was not called as part of model loading because the model's `compile()` method is custom. All subclassed Models that have `compile()` overridden should also override `get_compile_config()` and `compile_from_config(config)`. Alternatively, you can call `compile()` manually after loading.\n",
      "  instance.compile_from_config(compile_config)\n",
      "/home/omarchevska/miniconda3/envs/ml/lib/python3.11/site-packages/keras/src/saving/saving_lib.py:396: UserWarning: Skipping variable loading for optimizer 'adam', because it has 2 variables whereas the saved optimizer has 84 variables. \n",
      "  trackable.load_own_variables(weights_store.get(inner_path))\n"
     ]
    }
   ],
   "source": [
    "model = tf.keras.models.load_model(\"bert_tiny.keras\")"
   ]
  },
  {
   "cell_type": "code",
   "execution_count": 26,
   "id": "946424a0-ae92-4944-8a4e-135174ee512e",
   "metadata": {},
   "outputs": [
    {
     "name": "stdout",
     "output_type": "stream",
     "text": [
      "Review: This movies was wonderful, however the music was not that good.\n"
     ]
    },
    {
     "data": {
      "image/png": "[encoded data removed]",
      "text/plain": [
       "<Figure size 600x100 with 1 Axes>"
      ]
     },
     "metadata": {},
     "output_type": "display_data"
    }
   ],
   "source": [
    "# test model prediction and plot result\n",
    "review = \"This movies was wonderful, however the music was not that good.\"\n",
    "print(\"Review:\", review)\n",
    "plot_bar(make_prediction(review, model))"
   ]
  },
  {
   "cell_type": "code",
   "execution_count": 27,
   "id": "767cabcb-dd68-45cd-855c-cb8a2d26e7f0",
   "metadata": {},
   "outputs": [
    {
     "name": "stdout",
     "output_type": "stream",
     "text": [
      "Review: It was okay, 5 out of 10, but i wouldn't watch it again.\n"
     ]
    },
    {
     "data": {
      "image/png": "[encoded data removed]",
      "text/plain": [
       "<Figure size 600x100 with 1 Axes>"
      ]
     },
     "metadata": {},
     "output_type": "display_data"
    }
   ],
   "source": [
    "review = \"It was okay, 5 out of 10, but i wouldn't watch it again.\"\n",
    "print(\"Review:\", review)\n",
    "plot_bar(make_prediction(review, model))"
   ]
  },
  {
   "cell_type": "code",
   "execution_count": 28,
   "id": "d22279d2-9dda-4779-857b-d39c6e4dd94b",
   "metadata": {},
   "outputs": [
    {
     "name": "stdout",
     "output_type": "stream",
     "text": [
      "Review: Movie is completely awful!\n"
     ]
    },
    {
     "data": {
      "image/png": "[encoded data removed]",
      "text/plain": [
       "<Figure size 600x100 with 1 Axes>"
      ]
     },
     "metadata": {},
     "output_type": "display_data"
    }
   ],
   "source": [
    "review = \"Movie is completely awful!\"\n",
    "print(\"Review:\", review)\n",
    "plot_bar(make_prediction(review, model))"
   ]
  },
  {
   "cell_type": "code",
   "execution_count": 29,
   "id": "35bef6b1-d799-4061-866d-17c746d7e740",
   "metadata": {},
   "outputs": [
    {
     "name": "stdout",
     "output_type": "stream",
     "text": [
      "Review: tf.Tensor(b'The remarkable, sometimes infuriating, often brilliant films of John Cassavetes occupy a unique position in American cinema\\xc2\\x85 Low-budget, partly improvised, inspired by cin\\xc3\\xa9ma verit\\xc3\\xa9 documentary, and related to underground film, they have nevertheless frequently managed to reach a wide and profoundly appreciative audience\\xc2\\x85 <br /><br />After drama studies, the young Cassavetes quickly made his name as an unusually unrefined, intense actor, often appearing in films about disaffected, rebellious youth such as \"Crime in the Streets\" and \"Edge of the City.\" <br /><br />Setting up an actors\\' workshop, he worked to transform an improvisational experiment into his feature debut\\xc2\\x85 The result, \"Shadows,\" taking three years to complete and partly financed by his performances in TV\\'s Johnny Staccato, was a breakthrough in American cinema\\xc2\\x85 About the effect of racism on an already fraught relationship between two black men and their sister, two of whom pass for white, the film is impressive for its irregular, seemingly formless style and naturalistic performances\\xc2\\x85 Plot was minimal, mood and emotional apparent truth were everything\\xc2\\x85', shape=(), dtype=string)\n",
      "True label: 1\n"
     ]
    },
    {
     "data": {
      "image/png": "[encoded data removed]",
      "text/plain": [
       "<Figure size 600x100 with 1 Axes>"
      ]
     },
     "metadata": {},
     "output_type": "display_data"
    }
   ],
   "source": [
    "# test review from the test set\n",
    "review_label = test_ds.unbatch().take(1)\n",
    "for review, label in review_label:\n",
    "    print(\"Review:\", review)\n",
    "    print(\"True label:\", label.numpy())\n",
    "    plot_bar(make_prediction(review, model))"
   ]
  },
  {
   "cell_type": "markdown",
   "id": "a817c2d1-7740-4071-91d7-3fa11a1ae5b1",
   "metadata": {},
   "source": [
    "## Error Analysis"
   ]
  },
  {
   "cell_type": "code",
   "execution_count": 406,
   "id": "34016f7a-f987-466b-8a4c-39c1b08b26e5",
   "metadata": {},
   "outputs": [
    {
     "name": "stdout",
     "output_type": "stream",
     "text": [
      "Labels: tf.Tensor([0 0 1 ... 1 0 1], shape=(25000,), dtype=int32)\n",
      "Predictions: tf.Tensor([0 0 1 ... 0 0 1], shape=(25000,), dtype=int32)\n"
     ]
    }
   ],
   "source": [
    "# get true and predicted labels\n",
    "y_true = tf.stack([label for _, label in test_ds.unbatch()], axis=0)\n",
    "# raw model outputs\n",
    "logits = model_1.predict(test_ds, verbose=0)\n",
    "# class probabilities\n",
    "y_proba = tf.nn.softmax(logits)\n",
    "# predicted labels\n",
    "y_pred = tf.cast(tf.argmax(logits, axis=1), tf.int32)\n",
    "\n",
    "print(\"Labels:\", y_true)\n",
    "print(\"Predictions:\", y_pred)"
   ]
  },
  {
   "cell_type": "code",
   "execution_count": 407,
   "id": "1d1099d3-974d-4596-9919-886a0f42f942",
   "metadata": {},
   "outputs": [],
   "source": [
    "# utility functions to plot confusion matrix\n",
    "def plot_confusion_matrix(actual, predicted, labels, ds_type):\n",
    "    cm = tf.math.confusion_matrix(actual, predicted)\n",
    "    ax = sns.heatmap(cm, annot=True, fmt='g')\n",
    "    sns.set(rc={'figure.figsize':(3, 3)})\n",
    "    ax.set_title('Confusion matrix of sentiment prediction for ' + ds_type)\n",
    "    ax.set_xlabel('Predicted')\n",
    "    ax.set_ylabel('Actual')\n",
    "    plt.xticks(rotation=90)\n",
    "    plt.yticks(rotation=0)\n",
    "    ax.xaxis.set_ticklabels(labels)\n",
    "    ax.yaxis.set_ticklabels(labels)"
   ]
  },
  {
   "cell_type": "code",
   "execution_count": 408,
   "id": "c46bf137-8251-4c9b-91af-3f1cddb1c365",
   "metadata": {},
   "outputs": [
    {
     "data": {
      "image/png": "[encoded data removed]",
      "text/plain": [
       "<Figure size 300x300 with 2 Axes>"
      ]
     },
     "metadata": {},
     "output_type": "display_data"
    }
   ],
   "source": [
    "plot_confusion_matrix(y_true, y_pred, class_labels, \"testing\")"
   ]
  },
  {
   "cell_type": "code",
   "execution_count": 409,
   "id": "f9ac4c05-0b0a-4b24-98b7-982c3547372e",
   "metadata": {},
   "outputs": [],
   "source": [
    "# get misclassified examples\n",
    "missclass = [(item, y_proba[i]) for i, item in test_ds.unbatch().enumerate() if item[1] != y_pred[i]]"
   ]
  },
  {
   "cell_type": "code",
   "execution_count": 410,
   "id": "e4e59750-1472-4344-9467-51ff67091037",
   "metadata": {},
   "outputs": [
    {
     "name": "stdout",
     "output_type": "stream",
     "text": [
      "\n",
      "Review: tf.Tensor(b'Sergei Eisenstein\\'s most famous movie has truly withstood the test of time. The story of a mutiny aboard a warship in 1905 does have the feeling of Soviet propaganda, but does a good job showing the conditions that led to the revolt. The scene on the Odessa steps should remain seared into anyone\\'s mind.<br /><br />Okay, so \"The Battleship Potemkin\" wasn\\'t actually the first movie to use montage, but they did a great job with it here. Certainly any film history class should show this movie. It\\'s a great historical drama (although I will admit that I don\\'t know how accurate it is). A 10/10.<br /><br />Oh, and we should have learned by now that \"Potemkin\" should be transliterated as \"Potyomkin\".', shape=(), dtype=string)\n",
      "True label: 1 (pos)\n",
      "Predicted probability of negative class: 0.6236637234687805, positive class: 0.3763362467288971\n",
      "\n",
      "Review: tf.Tensor(b\"Might contain spoilers.<br /><br />This is just a good movie. Lots of good silly stuff to laugh at. However, do not watch the TV version, they cut to much out. Dom Deluise is rather awesome as the mafia Don who is hired to kill Robin. All I can say about his ten minutes: it's a long drive from Jersey. Also you gotta love them checking the script to make sure Robin gets another shot. Also: 12th Century Fox.<br /><br />Any bad stuff? The rappers at the beginning and the end seem rather out dated. The songs were rather lame. One time while watching this movie, I could think out a few more times when they could have thrown in another joke or 2. <br /><br />On the whole, however, an enjoyable movie experience. A must watch for comedy fans.\", shape=(), dtype=string)\n",
      "True label: 1 (pos)\n",
      "Predicted probability of negative class: 0.9523482322692871, positive class: 0.04765180125832558\n",
      "\n",
      "Review: tf.Tensor(b\"My ratings: Acting - 3/10 Suspense - 2/10 Character Attachment - 1/10 Plot - 2/10 Character Development - 2/10 Overall - 2/10<br /><br />This show sucks very much officially. For me, CSI Miami is the best, CSI NY 2nd and CSI 100th. I don't know, in the other CSIs you get into the episode you're watching. But in this one, you just can't get into the episode, no matter how much you try, so in my opinion, this show is not worth watching. I know people have different opinions, and I respect that, but for me, this CSI ain't good enough. So if you like suspense, real acting/performance, good plot, direction, character development/attachment and you an overall good show, I suggest you to watch CSI Miami.\", shape=(), dtype=string)\n",
      "True label: 0 (neg)\n",
      "Predicted probability of negative class: 0.10884833335876465, positive class: 0.8911516070365906\n",
      "\n",
      "Review: tf.Tensor(b\"Has some really good music and performances; Kid Creole and the Coconuts, James White and the Blacks, DNA, Tuxedo Moon, the Plastics, Melle Mel, Vincent Gallo, Lydia Lunch...etc, but aside from this there isn't much more to it. The dialog, especially the narration(by Saul Williams), is actually pretty good, but the performances are all pretty bland or outright bad, no matter how many hipsters are thrown in; Debbie Harry and Jean Micheal Basquit(the latter being the leading role) both still don't have enough cultural cred to keep this film from being a novelty item. It goes for the a Jack Kerouac style roving spontaneity, but doesn't have the insight to keep it moving along, which is where the band performances come in. I guess its pretty balanced in that regard between great music and bad acting, and I did enjoy it, but I just expected more. Though it does have a fairy tale ending.\", shape=(), dtype=string)\n",
      "True label: 0 (neg)\n",
      "Predicted probability of negative class: 0.23289698362350464, positive class: 0.7671030759811401\n",
      "\n",
      "Review: tf.Tensor(b'Journalist Bob Woodward\\'s blistering, scattershot and sometimes suspect account of actor John Belushi\\'s rise and fall becomes a wholly misjudged movie, a nebulous \"fantasy\" directed by Larry Peerce as if he were doing something edgy and vital. Michael Chiklis (years before his breakthrough on \"The Shield\") is put in the unenviable position of portraying Belushi, taking a post-mortem trip through his life, recreating those \"Saturday Night Live\" skits which are now part of TV history. It\\'s like watching someone try to out-Lucy Lucille Ball--it can\\'t be done. The reason why there was such sorrow at Belushi\\'s death was because he was one of a kind. Chiklis makes a commendable attempt at looking the part, and he\\'s funny in an early scene trying to escape from the morgue. Still, it\\'s an uphill venture and no actor--no matter how talented--could have saved it. * from ****', shape=(), dtype=string)\n",
      "True label: 0 (neg)\n",
      "Predicted probability of negative class: 0.3085947632789612, positive class: 0.6914052367210388\n",
      "\n",
      "Review: tf.Tensor(b\"This is a known fact, Mr. Seagal cannot smile, he can act, he can kick butt, there are faint smiles, no real smiles no laughing out loud and no real point of watching this confusing movie. We see an over weight Mr. Seagal as Dr. Wesley Maclaren, who is in desperate need of a haircut and his real daughter Ayako made an appearance as his office assistant. Story: Okay so Wesley lives in another darn outback with his sweet daughter Holly. They sit and enjoy their red flower tea and omelettes and on the other end of town some over weight militia leader decides to make the whole town sick by spreading a virus that travels by air and kills in a matter of 2 days thinking he can survive as he had an antidote. Problem, there is no antidote and the one that exists only holds back the virus for a while. The CIA are contacted and even they can't help and only one person isn't ill, Wesley's daughter Holly. So she gets hunted thinking the cure is in her blood. Wesley manages to grab his daughter and take her to her grandfather, who is a native indian. Together with his sister in law Ann they go to a base where there is a hidden lab to find a cure but even the soldiers there are dying slowly and so will others if they don't find a cure in time. And to shorten the moment, neither Ann or Wesley are infected by the virus...hmm. One weak fight scene. Terrible movie and all the men in it are in desperate need of a stair master.\", shape=(), dtype=string)\n",
      "True label: 0 (neg)\n",
      "Predicted probability of negative class: 0.26979362964630127, positive class: 0.7302063703536987\n",
      "\n",
      "Review: tf.Tensor(b'For one thing, he produced this movie. It has the feel of later movies with international casts that are dubbed. The opening credits tell us it was filmed in Vienna.<br /><br />Bey was a delight in the Universal adventure movies of the 1940s. He was also superb in a movie I saw maybe ten years ago but have never heard of since: \"The Amazing Mr. X.\" Maybe it was Dr. X. I remember it as a thrilling and frightening movie.<br /><br />This one is pretty wooden, unfortunately. The plot isn\\'t easy to follow. When I got the hang of it, I was disappointed anyway.<br /><br />Francis Lederer looks great as a concert pianist. He was a very handsome leading man ten or 15 years earlier. He never really caught on as a major star, though he should have.<br /><br />This isn\\'t terrible but it\\'s pretty heavy going.', shape=(), dtype=string)\n",
      "True label: 0 (neg)\n",
      "Predicted probability of negative class: 0.3070015609264374, positive class: 0.6929984092712402\n",
      "\n",
      "Review: tf.Tensor(b\"We don't know if Darlene loves all three gentleman, certainly they are wary of one another, yet they live together. Viewers might surmise that the feelings of rivalry between the gentleman and the feelings of all of them toward Darlene might make for an unbearable home life.<br /><br />In the eerily beautiful rural Brazilian landscape (emphasized by the frequent use of polarization and the use of Kodachrome stock), anything might happen, and the alternatives for any one of them. save perhaps Ciro, may not be alluring enough to encourage them to change their circumstances. They seem to bear the intolerable because it is familiar-the unknown frightens them into complacency toward a fate which is more challenging than their characters can utilize. Thus it crushes them, rather than strengthening them. The web in which they are caught is made of the sanguine filaments which bind us all. Perhaps the sadness I felt after watching this movie has to do with it's portrayal of the inevitable fading of our youth's bright colors in the unforgiving light of time. The three children will enter the world fated to relive their parents lives to one or another degree. Well filmed and portrayed, the story is tragic in it's essence. Walt Disney it ain't\", shape=(), dtype=string)\n",
      "True label: 0 (neg)\n",
      "Predicted probability of negative class: 0.05652404949069023, positive class: 0.9434759616851807\n",
      "\n",
      "Review: tf.Tensor(b\"Burt Reynolds directed this action movie and (surprise!) he is actually a pretty good director. This movie starts off well as Burt's attempted bust of a drug dealer is botched, and he is demoted down to the vice squad. The ensemble cast has some pretty funny scenes as Brian Kieth is always eating something, Bernie Casey has more class than all of his co-workers combined, and Charles Durning loses control of his squad.<br /><br />The vice cops stumble on a high-priced call-girl ring that may have something to do with a series of murders. Sharkey spends days staking out Dominoe's (Rachel Ward) apartment, and starts to really adore her from afar.<br /><br />Just when they are getting close to the crime leader, Dominoe is murdered. I won't give away any of the surprises in the plot, but the first hour of this film is great.<br /><br />Unfortunately, the screenplay gets very clich\\xc3\\xa9d and unbelievable after that.<br /><br />Why would Burt Reynolds confront the crime boss with his big secret? Sure it makes the guy sweat, but it causes many more cops to be killed. And it is not believable that Dominoe and Sharkey would make love after they have know each other for one day, much less while their lives are in danger. And at the end, what happened to all the police that run into the building with our heroes? Isn't there a SWAT team? Also, the film never actually tells you how all of the bad guys are connected, and why they have to kill so many people.<br /><br />There is a very effective torture scene on a boat near the end of the film, which is probably the only really nail-biting scene of the film. It is a shame that the climax is a typical shoot-em-up. Still, this film is certainly entertaining if you like crime and action movies. Don't think about the plot holes, and you will have a good time.\", shape=(), dtype=string)\n",
      "True label: 1 (pos)\n",
      "Predicted probability of negative class: 0.5104898810386658, positive class: 0.48951008915901184\n",
      "\n",
      "Review: tf.Tensor(b'\"The James Dean Story\" is introduced as \"A different kind of motion picture,\" explaining, \"The presence of the leading character in this film has been made possible by the use of existing motion picture material, tape recordings of his voice and by means of a new technique - dynamic exploration of the still photograph.\" The only \"tape recordings of his voice\" noteworthy is one short recording Mr. Dean make while visiting his family in Indiana; he wanted to record any family recollections of his great-grandfather Cal Dean, intrigued because he played a similarly named \"Cal\" in \"East of Eden\". Dean asks if Cal Dean was interested in art, and learns the relative was an auctioneer. James Dean was interested in art and had warm relationship with his family, obviously. That\\'s the only 100% accurate revelation in this documentary. James Dean was interested in art and had warm relationship with his family.<br /><br />An amazing \"screen test\"/\"outtake\" from \"East of Eden\" appears near the film\\'s end. It\\'s a black and white scene between Dean (as Cal Trask) and co-star Richard Davalos (as Aron Trask). Dean is at his mesmerizing best. If this scene appeared only here, and no \"East of Eden\" film was completed, this documentary would be an essential, high rated film. But the scene, a perfect \"10\" in isolation, should be considered an \"East of Eden\" extra. Dean\\'s \"Traffic Safety Film\" is also worth seeing.<br /><br />There are the expected interviews with family and friends. My favorites were the guy (Lew Bracker) going through a box of stuff Dean left with him, and Dean\\'s family. There wasn\\'t enough from Aunt Ortense and the letter from Dean to his little cousin was very nice. More reading of Dean\\'s letters would have been welcome. Dean\\'s unidentified writer friend seemed to have a better thesis for the film; filmmakers might have considered developing it as a main focus.<br /><br />Robert Altman\\'s direction of Martin Gabel\\'s reading of Stewart Stern\\'s script is dreadful. What were they thinking? Perhaps, filmmakers can be forgiven due to the closeness of Dean\\'s passing. Don\\'t expect \"The James Dean Story\" at all. This movie is more about Dean\\'s effect on people (both the fans and filmmakers) than the man. It is very clearly an early piece of the James Dean myth-making \"legend\". Tommy Sands sings \"Let Me Be Loved\". The narrative refers to Dean as \"He\" with a god-like air. The shots of Dean\\'s family seeming to \"know\" the moment he dies are truly wretched.<br /><br />** The James Dean Story (8/13/57) Robert Altman ~ James Dean, Martin Gabel, Richard Davalos', shape=(), dtype=string)\n",
      "True label: 0 (neg)\n",
      "Predicted probability of negative class: 0.03368949890136719, positive class: 0.9663105010986328\n"
     ]
    }
   ],
   "source": [
    "# output a few misclassified reviews\n",
    "for item, pred in missclass[80:90]:\n",
    "    print(\"\\nReview:\", item[0])\n",
    "    print(f\"True label: {item[1].numpy()} ({class_labels[item[1].numpy()]})\")\n",
    "    print(f\"Predicted probability of negative class: {pred.numpy()[0]}, positive class: {pred.numpy()[1]}\")"
   ]
  },
  {
   "cell_type": "markdown",
   "id": "59e6dce5-86d6-45e5-a8d0-7fd3987c5e77",
   "metadata": {},
   "source": [
    "## Two-Stage Sentiment Extraction"
   ]
  },
  {
   "cell_type": "code",
   "execution_count": 13,
   "id": "3c088086-de4c-4e5f-b621-17d10ad856f5",
   "metadata": {},
   "outputs": [
    {
     "name": "stdout",
     "output_type": "stream",
     "text": [
      "Input Text: Journalist Bob Woodward's blistering, scattershot and sometimes suspect account of actor John Belushi's rise and fall becomes a wholly misjudged movie, a nebulous 'fantasy' directed by Larry Peerce as if he were doing something edgy and vital. Michael Chiklis (years before his breakthrough on 'The Shield') is put in the unenviable position of portraying Belushi, taking a post-mortem trip through his life, recreating those 'Saturday Night Live' skits which are now part of TV history. It's like watching someone try to out-Lucy Lucille Ball--it can't be done. The reason why there was such sorrow at Belushi's death was because he was one of a kind. Chiklis makes a commendable attempt at looking the part, and he's funny in an early scene trying to escape from the morgue. Still, it's an uphill venture and no actor--no matter how talented--could have saved it. * from ****\n",
      "Classifications:\n",
      "acting: 0.971\n",
      "directing: 0.926\n",
      "video, visuals: 0.411\n",
      "sounds, music: 0.095\n",
      "plot, script: 0.091\n"
     ]
    }
   ],
   "source": [
    "# Load the zero-shot classification pipeline with the desired model\n",
    "classifier = pipeline(\"zero-shot-classification\", model=\"facebook/bart-large-mnli\")\n",
    "input_text = \"Burt Reynolds directed this action movie and (surprise!) he is actually a pretty good director. This movie starts off well as Burt's attempted bust of a drug dealer is botched, and he is demoted down to the vice squad. The ensemble cast has some pretty funny scenes as Brian Kieth is always eating something, Bernie Casey has more class than all of his co-workers combined, and Charles Durning loses control of his squad.<br /><br />The vice cops stumble on a high-priced call-girl ring that may have something to do with a series of murders. Sharkey spends days staking out Dominoe's (Rachel Ward) apartment, and starts to really adore her from afar.<br /><br />Just when they are getting close to the crime leader, Dominoe is murdered. I won't give away any of the surprises in the plot, but the first hour of this film is great.<br /><br />Unfortunately, the screenplay gets very clich\\xc3\\xa9d and unbelievable after that.<br /><br />Why would Burt Reynolds confront the crime boss with his big secret? Sure it makes the guy sweat, but it causes many more cops to be killed. And it is not believable that Dominoe and Sharkey would make love after they have know each other for one day, much less while their lives are in danger. And at the end, what happened to all the police that run into the building with our heroes? Isn't there a SWAT team? Also, the film never actually tells you how all of the bad guys are connected, and why they have to kill so many people.<br /><br />There is a very effective torture scene on a boat near the end of the film, which is probably the only really nail-biting scene of the film. It is a shame that the climax is a typical shoot-em-up. Still, this film is certainly entertaining if you like crime and action movies. Don't think about the plot holes, and you will have a good time.\"\n",
    "class_descriptions = [\"plot, script\", \"sounds, music\", \"directing\", \"acting\", \"video, visuals\"]\n",
    "\n",
    "input_text = \"Might contain spoilers.<br /><br />This is just a good movie. Lots of good silly stuff to laugh at. However, do not watch the TV version, they cut to much out. Dom Deluise is rather awesome as the mafia Don who is hired to kill Robin. All I can say about his ten minutes: it's a long drive from Jersey. Also you gotta love them checking the script to make sure Robin gets another shot. Also: 12th Century Fox.<br /><br />Any bad stuff? The rappers at the beginning and the end seem rather out dated. The songs were rather lame. One time while watching this movie, I could think out a few more times when they could have thrown in another joke or 2. <br /><br />On the whole, however, an enjoyable movie experience. A must watch for comedy fans.\"\n",
    "input_text = \"Journalist Bob Woodward\\'s blistering, scattershot and sometimes suspect account of actor John Belushi\\'s rise and fall becomes a wholly misjudged movie, a nebulous 'fantasy' directed by Larry Peerce as if he were doing something edgy and vital. Michael Chiklis (years before his breakthrough on 'The Shield') is put in the unenviable position of portraying Belushi, taking a post-mortem trip through his life, recreating those 'Saturday Night Live' skits which are now part of TV history. It\\'s like watching someone try to out-Lucy Lucille Ball--it can\\'t be done. The reason why there was such sorrow at Belushi\\'s death was because he was one of a kind. Chiklis makes a commendable attempt at looking the part, and he\\'s funny in an early scene trying to escape from the morgue. Still, it\\'s an uphill venture and no actor--no matter how talented--could have saved it. * from ****\"\n",
    "#input_text = \"For one thing, he produced this movie. It has the feel of later movies with international casts that are dubbed. The opening credits tell us it was filmed in Vienna.<br /><br />Bey was a delight in the Universal adventure movies of the 1940s. He was also superb in a movie I saw maybe ten years ago but have never heard of since: 'The Amazing Mr. X.' Maybe it was Dr. X. I remember it as a thrilling and frightening movie.<br /><br />This one is pretty wooden, unfortunately. The plot isn\\'t easy to follow. When I got the hang of it, I was disappointed anyway.<br /><br />Francis Lederer looks great as a concert pianist. He was a very handsome leading man ten or 15 years earlier. He never really caught on as a major star, though he should have.<br /><br />This isn\\'t terrible but it\\'s pretty heavy going.\"\n",
    "#input_text = \"Has some really good music and performances; Kid Creole and the Coconuts, James White and the Blacks, DNA, Tuxedo Moon, the Plastics, Melle Mel, Vincent Gallo, Lydia Lunch...etc, but aside from this there isn't much more to it. The dialog, especially the narration(by Saul Williams), is actually pretty good, but the performances are all pretty bland or outright bad, no matter how many hipsters are thrown in; Debbie Harry and Jean Micheal Basquit(the latter being the leading role) both still don't have enough cultural cred to keep this film from being a novelty item. It goes for the a Jack Kerouac style roving spontaneity, but doesn't have the insight to keep it moving along, which is where the band performances come in. I guess its pretty balanced in that regard between great music and bad acting, and I did enjoy it, but I just expected more. Though it does have a fairy tale ending.\"\n",
    "#input_text = \"This is a known fact, Mr. Seagal cannot smile, he can act, he can kick butt, there are faint smiles, no real smiles no laughing out loud and no real point of watching this confusing movie. We see an over weight Mr. Seagal as Dr. Wesley Maclaren, who is in desperate need of a haircut and his real daughter Ayako made an appearance as his office assistant. Story: Okay so Wesley lives in another darn outback with his sweet daughter Holly. They sit and enjoy their red flower tea and omelettes and on the other end of town some over weight militia leader decides to make the whole town sick by spreading a virus that travels by air and kills in a matter of 2 days thinking he can survive as he had an antidote. Problem, there is no antidote and the one that exists only holds back the virus for a while. The CIA are contacted and even they can't help and only one person isn't ill, Wesley's daughter Holly. So she gets hunted thinking the cure is in her blood. Wesley manages to grab his daughter and take her to her grandfather, who is a native indian. Together with his sister in law Ann they go to a base where there is a hidden lab to find a cure but even the soldiers there are dying slowly and so will others if they don't find a cure in time. And to shorten the moment, neither Ann or Wesley are infected by the virus...hmm. One weak fight scene. Terrible movie and all the men in it are in desperate need of a stair master.\"\n",
    "#input_text = \"We don't know if Darlene loves all three gentleman, certainly they are wary of one another, yet they live together. Viewers might surmise that the feelings of rivalry between the gentleman and the feelings of all of them toward Darlene might make for an unbearable home life.<br /><br />In the eerily beautiful rural Brazilian landscape (emphasized by the frequent use of polarization and the use of Kodachrome stock), anything might happen, and the alternatives for any one of them. save perhaps Ciro, may not be alluring enough to encourage them to change their circumstances. They seem to bear the intolerable because it is familiar-the unknown frightens them into complacency toward a fate which is more challenging than their characters can utilize. Thus it crushes them, rather than strengthening them. The web in which they are caught is made of the sanguine filaments which bind us all. Perhaps the sadness I felt after watching this movie has to do with it's portrayal of the inevitable fading of our youth's bright colors in the unforgiving light of time. The three children will enter the world fated to relive their parents lives to one or another degree. Well filmed and portrayed, the story is tragic in it's essence. Walt Disney it ain't\"\n",
    "#input_text = \"David Mamet is a very interesting and a very un-equal director. His first movie 'House of Games' was the one I liked best, and it set a series of films with characters whose perspective of life changes as they get into complicated situations, and so does the perspective of the viewer.<br /><br />So is 'Homicide' which from the title tries to set the mind of the viewer to the usual crime drama. The principal characters are two cops, one Jewish and one Irish who deal with a racially charged area. The murder of an old Jewish shop owner who proves to be an ancient veteran of the Israeli Independence war triggers the Jewish identity in the mind and heart of the Jewish detective.<br /><br />This is were the flaws of the film are the more obvious. The process of awakening is theatrical and hard to believe, the group of Jewish militants is operatic, and the way the detective eventually walks to the final violent confrontation is pathetic. The end of the film itself is Mamet-like smart, but disappoints from a human emotional perspective.<br /><br />Joe Mantegna and William Macy give strong performances, but the flaws of the story are too evident to be easily compensated.\"\n",
    "\n",
    "# Perform zero-shot classification\n",
    "result = classifier(input_text, class_descriptions, multi_label=True)\n",
    "\n",
    "# Print the results\n",
    "print(\"Input Text:\", input_text)\n",
    "print(\"Classifications:\")\n",
    "for label, score in zip(result[\"labels\"], result[\"scores\"]):\n",
    "    print(f\"{label}: {score:.3f}\")"
   ]
  },
  {
   "cell_type": "code",
   "execution_count": 14,
   "id": "7f815c59-4431-4f63-ba45-85470f3320c0",
   "metadata": {},
   "outputs": [
    {
     "name": "stdout",
     "output_type": "stream",
     "text": [
      "Review: Journalist Bob Woodward's blistering, scattershot and sometimes suspect account of actor John Belushi's rise and fall becomes a wholly misjudged movie, a nebulous 'fantasy' directed by Larry Peerce as if he were doing something edgy and vital. Michael Chiklis (years before his breakthrough on 'The Shield') is put in the unenviable position of portraying Belushi, taking a post-mortem trip through his life, recreating those 'Saturday Night Live' skits which are now part of TV history. It's like watching someone try to out-Lucy Lucille Ball--it can't be done. The reason why there was such sorrow at Belushi's death was because he was one of a kind. Chiklis makes a commendable attempt at looking the part, and he's funny in an early scene trying to escape from the morgue. Still, it's an uphill venture and no actor--no matter how talented--could have saved it. * from ****\n"
     ]
    },
    {
     "name": "stderr",
     "output_type": "stream",
     "text": [
      "WARNING: All log messages before absl::InitializeLog() is called are written to STDERR\n",
      "I0000 00:00:1708116592.391147    6938 device_compiler.h:186] Compiled cluster using XLA!  This line is logged at most once for the lifetime of the process.\n"
     ]
    },
    {
     "name": "stdout",
     "output_type": "stream",
     "text": [
      "\n",
      "Sentiment probabilities for the whole review: [[0.3577419 0.6928649]]\n",
      "Sentiment probabilities for the acting: [[0.5349737  0.51719254]]\n",
      "Sentiment probabilities for the directing: [[0.36589524 0.6804651 ]]\n",
      "Sentiment probabilities for the video, visuals: [[0.28606632 0.73787624]]\n"
     ]
    }
   ],
   "source": [
    "filt = np.array(result[\"scores\"][:3]) > 0.3\n",
    "top_topics = np.array(result[\"labels\"][:3])[filt]\n",
    "top_topics\n",
    "\n",
    "print(\"Review:\", input_text)\n",
    "print(\"\\nSentiment probabilities for the whole review:\", tf.nn.sigmoid(model.predict(tf.constant([input_text]), verbose=0)).numpy())\n",
    "for topic in top_topics:\n",
    "    data = (tf.constant([input_text]), tf.constant([topic]))\n",
    "    pred = tf.nn.sigmoid(model.predict(data, verbose=0))\n",
    "    print(f\"Sentiment probabilities for the {topic}: {pred.numpy()}\")"
   ]
  },
  {
   "cell_type": "code",
   "execution_count": null,
   "id": "e33ea01c-0f7d-4a61-a103-21934d1e8c10",
   "metadata": {},
   "outputs": [],
   "source": []
  },
  {
   "cell_type": "code",
   "execution_count": 40,
   "id": "6a9fb273-8942-41b7-ba44-5f334397e42d",
   "metadata": {},
   "outputs": [
    {
     "name": "stdout",
     "output_type": "stream",
     "text": [
      "\n",
      " tf.Tensor(b\"Moonchild is a very difficult movie to categorise. It's easiest to think of it as several snapshots of the lives of the two central characters. The fact that these characters are members of a street gang set in an multicultural city of the near future and that one of them is a vampire does not preclude them from having moments like any other people, and this is one of the places where this movie is different to anything else I've ever heard of. It doesn't get wrapped up in the fact that one of the main characters is a vampire, it's just something that has to be dealt with like any other problem. The way the characters interact is surprisingly realistic- there are embarrassing relatives and tricks that are meant to look cool that just don't work, which leaves the film with a lovely sense of not taking itself too seriously for the most part.<br /><br />The other area that really stood out to me is the languages. The fictional city of Mallepa contains various cultural groups, and characters speak the language that they would be expected to speak. Japanese gang members speak Japanese to each other, but Chinese when talking to characters of Chinese descent. Possibly the most amusing exchange involves an Australian and is conducted in English. The actors of the four arguably main characters have three separate mother tongues between them and speak varying levels of each others' languages, so it's quite a feat that the movie was made at all. Which, I suppose, brings me to the lead actors.<br /><br />Much has been made of the fact that the movie stars two of Japan's biggest rockstars, Gackt and Hyde, as well as Taiwanese superstar Lee-hom Wang, whether it is to praise them for their acting or criticise it or simply fangirl about them. In my opinion, Lee-hom is the best at playing a straight and realistic character. However, any lack of acting ability on Gackt's part is mostly masked by the fact that the character he plays is prone to being over-dramatic. I wasn't sure if Hyde's character was supposed to be as sulky and sarcastic as he came across, but it doesn't really detract from the movie either way.<br /><br />There are several scenes which take rather melodramatic turns, which made it difficult for them to affect me much emotionally (Although this doesn't seem to stop a lot of people). I found it's best to just enjoy the movie for what it is and not take it too seriously- It's perfect for getting out and watching with a group of friends. It does have its flaws, but overall it was very enjoyable and I'd highly recommend it to anyone who doesn't mind a few subtitles.\", shape=(), dtype=string) tf.Tensor(1, shape=(), dtype=int32)\n",
      "\n",
      " tf.Tensor(b'This movie was on the Romance channel, and I thought it might be a goofy 80\\'s movie that would be enjoyable on some level, so my brother and I watched it. Boy did it suck. Boy gets crush on girl--correction, his *dream*-girl (apparently there is a difference; and I\\'m surprised he realized she was his dream girl--he was smitten with her from over 30 feet away. I guess that just goes to show the power of dream-girls), boy ends up masquerading as a female to be near dream-girl (creative in the sense that it\\'s a far-out plan, but un-creative in the sense that there are probably better solutions one might think up), awkward situations ensue, a match is made (all of which takes seems to take place around late afternoon--either the location was somehow responsible for this odd lighting, or the actors had to wait until they got off of their day-jobs to come to the set; I suspect the latter). Very clumsily done, very pathetic. It\\'s almost never even amusing *accidentally*, so there really is nothing to redeem it. Unless you\\'re interested in seeing Chad Lowe\\'s early days, before he finally got his piece of the pie with his role as the HIV-positive gay guy on the series \"Life Goes On\", or Gail O\\'Grady who was on NYPD Blue and probably got to stare at Dennis Franz\\'s buttocks). But those are unlikely motives--I\\'d say \"systematic derangement of the senses\" would be a more justified purpose. I\\'m surprised I watched it all. I guess it\\'s the kind of thing where, halfway through, you find yourself *still* watching due to some morbid, self-flagellistic inner-issue, and think you might as well finish it so you can tell your friends and family that you actually sat through such a horrible movie, on the off-chance that it\\'ll garner you some sympathy for the questionable state of your mental health. Can *You* Take the Challenge?', shape=(), dtype=string) tf.Tensor(0, shape=(), dtype=int32)\n",
      "\n",
      " tf.Tensor(b'This movie is all ultra-lightweight fluff, predictable from beginning to end. As a Don Knotts vehicle, \"The Incredible Mr. Limpet\" was much better, with Knott\\'s character there not nearly as incompetent or ignorant. His performance there was toned down, with none of his trademark goggle-eyed stare, although that may have something to do with him being replaced for most of the movie by a cartoon fish. Knotts made a living of playing the likable imbecile, much as Bob Denver did. Neither really seemed to be able to break out to other types of roles, assuming they were simply typecast. It was probably because of the slouch, the wild stare and the high-pitched voice. John Ritter, whom Knotts worked with in \"Three\\'s Company,\" was able to transcend his genre, branching out successfully into dramatic roles like \"The Dreamer of Oz,\" but the closest Knotts ever got was a small role in \"Pleasantville.\" Even Leslie Nielsen was a bad fit here, uncomfortably neither straight dramatic actor as he was at the time nor deadpan comedic actor as he later became in \"Airplane!\" and \"Police Squad.\"<br /><br />There\\'s also no way the then-43 year-old Knotts could pass for a 35 year-old, as his character insisted he was. It was as ludicrously unbelievable as Tom Hanks at 38 playing the college-age Forrest Gump.<br /><br />The film was clearly made on a shoestring budget, very much looking like a hastily-filmed TV episode. It\\'s especially evident in the \"exterior\" scenes of the \"town\" where Roy goes after he\\'s fired. It\\'s unlikely even a pre-schooler would be fooled by the Mayberry-like soundstage artificiality.<br /><br />Even viewing this strictly as a children\\'s movie, it\\'s very disappointing. It\\'s not because it lacks action or special effects, although it does. The pace is much too slow, the situations repetitive. How many times can you watch Roy getting onto a bus? A comedy for kids should at least sometimes be madcap, with breakneck gags, otherwise you risk boring them (and any adults in the theater as well). Movies, even kid\\'s movies, have improved quite a bit in the intervening decades. Even many contemporary comedies were better filmed and written. Disney\\'s \"The Love Bug,\" for instance, at least had some interesting race action.', shape=(), dtype=string) tf.Tensor(0, shape=(), dtype=int32)\n"
     ]
    }
   ],
   "source": [
    "sample = train_ds.unbatch().take(3)\n",
    "for review, label in sample:\n",
    "    print(\"\\n\", review, label)"
   ]
  },
  {
   "cell_type": "code",
   "execution_count": 41,
   "id": "91c281fd-bdb0-4cf0-8255-bf6220c2d18c",
   "metadata": {},
   "outputs": [],
   "source": [
    "review_label = [\n",
    "    (\"Moonchild is a very difficult movie to categorise. It's easiest to think of it as several snapshots of the lives of the two central characters. The fact that these characters are members of a street gang set in an multicultural city of the near future and that one of them is a vampire does not preclude them from having moments like any other people, and this is one of the places where this movie is different to anything else I've ever heard of. It doesn't get wrapped up in the fact that one of the main characters is a vampire, it's just something that has to be dealt with like any other problem. The way the characters interact is surprisingly realistic- there are embarrassing relatives and tricks that are meant to look cool that just don't work, which leaves the film with a lovely sense of not taking itself too seriously for the most part.<br /><br />The other area that really stood out to me is the languages. The fictional city of Mallepa contains various cultural groups, and characters speak the language that they would be expected to speak. Japanese gang members speak Japanese to each other, but Chinese when talking to characters of Chinese descent. Possibly the most amusing exchange involves an Australian and is conducted in English. The actors of the four arguably main characters have three separate mother tongues between them and speak varying levels of each others' languages, so it's quite a feat that the movie was made at all. Which, I suppose, brings me to the lead actors.<br /><br />Much has been made of the fact that the movie stars two of Japan's biggest rockstars, Gackt and Hyde, as well as Taiwanese superstar Lee-hom Wang, whether it is to praise them for their acting or criticise it or simply fangirl about them. In my opinion, Lee-hom is the best at playing a straight and realistic character. However, any lack of acting ability on Gackt's part is mostly masked by the fact that the character he plays is prone to being over-dramatic. I wasn't sure if Hyde's character was supposed to be as sulky and sarcastic as he came across, but it doesn't really detract from the movie either way.<br /><br />There are several scenes which take rather melodramatic turns, which made it difficult for them to affect me much emotionally (Although this doesn't seem to stop a lot of people). I found it's best to just enjoy the movie for what it is and not take it too seriously- It's perfect for getting out and watching with a group of friends. It does have its flaws, but overall it was very enjoyable and I'd highly recommend it to anyone who doesn't mind a few subtitles.\",\n",
    "    1),\n",
    "    (\"This movie was on the Romance channel, and I thought it might be a goofy 80\\'s movie that would be enjoyable on some level, so my brother and I watched it. Boy did it suck. Boy gets crush on girl--correction, his *dream*-girl (apparently there is a difference; and I\\'m surprised he realized she was his dream girl--he was smitten with her from over 30 feet away. I guess that just goes to show the power of dream-girls), boy ends up masquerading as a female to be near dream-girl (creative in the sense that it\\'s a far-out plan, but un-creative in the sense that there are probably better solutions one might think up), awkward situations ensue, a match is made (all of which takes seems to take place around late afternoon--either the location was somehow responsible for this odd lighting, or the actors had to wait until they got off of their day-jobs to come to the set; I suspect the latter). Very clumsily done, very pathetic. It\\'s almost never even amusing *accidentally*, so there really is nothing to redeem it. Unless you\\'re interested in seeing Chad Lowe\\'s early days, before he finally got his piece of the pie with his role as the HIV-positive gay guy on the series 'Life Goes On', or Gail O\\'Grady who was on NYPD Blue and probably got to stare at Dennis Franz\\'s buttocks). But those are unlikely motives--I\\'d say 'systematic derangement of the senses' would be a more justified purpose. I\\'m surprised I watched it all. I guess it\\'s the kind of thing where, halfway through, you find yourself *still* watching due to some morbid, self-flagellistic inner-issue, and think you might as well finish it so you can tell your friends and family that you actually sat through such a horrible movie, on the off-chance that it\\'ll garner you some sympathy for the questionable state of your mental health. Can *You* Take the Challenge?\",\n",
    "    0),\n",
    "    (\"This movie is all ultra-lightweight fluff, predictable from beginning to end. As a Don Knotts vehicle, 'The Incredible Mr. Limpet' was much better, with Knott\\'s character there not nearly as incompetent or ignorant. His performance there was toned down, with none of his trademark goggle-eyed stare, although that may have something to do with him being replaced for most of the movie by a cartoon fish. Knotts made a living of playing the likable imbecile, much as Bob Denver did. Neither really seemed to be able to break out to other types of roles, assuming they were simply typecast. It was probably because of the slouch, the wild stare and the high-pitched voice. John Ritter, whom Knotts worked with in 'Three\\'s Company,' was able to transcend his genre, branching out successfully into dramatic roles like 'The Dreamer of Oz,' but the closest Knotts ever got was a small role in 'Pleasantville.' Even Leslie Nielsen was a bad fit here, uncomfortably neither straight dramatic actor as he was at the time nor deadpan comedic actor as he later became in 'Airplane!' and 'Police Squad.'<br /><br />There\\'s also no way the then-43 year-old Knotts could pass for a 35 year-old, as his character insisted he was. It was as ludicrously unbelievable as Tom Hanks at 38 playing the college-age Forrest Gump.<br /><br />The film was clearly made on a shoestring budget, very much looking like a hastily-filmed TV episode. It\\'s especially evident in the 'exterior' scenes of the 'town' where Roy goes after he\\'s fired. It\\'s unlikely even a pre-schooler would be fooled by the Mayberry-like soundstage artificiality.<br /><br />Even viewing this strictly as a children\\'s movie, it\\'s very disappointing. It\\'s not because it lacks action or special effects, although it does. The pace is much too slow, the situations repetitive. How many times can you watch Roy getting onto a bus? A comedy for kids should at least sometimes be madcap, with breakneck gags, otherwise you risk boring them (and any adults in the theater as well). Movies, even kid\\'s movies, have improved quite a bit in the intervening decades. Even many contemporary comedies were better filmed and written. Disney\\'s 'The Love Bug,' for instance, at least had some interesting race action.\",\n",
    "    0),\n",
    "]"
   ]
  },
  {
   "cell_type": "code",
   "execution_count": 43,
   "id": "713dec89-15c2-459d-9b9b-359a872fc218",
   "metadata": {},
   "outputs": [
    {
     "name": "stdout",
     "output_type": "stream",
     "text": [
      "\n",
      "Input Text: Moonchild is a very difficult movie to categorise. It's easiest to think of it as several snapshots of the lives of the two central characters. The fact that these characters are members of a street gang set in an multicultural city of the near future and that one of them is a vampire does not preclude them from having moments like any other people, and this is one of the places where this movie is different to anything else I've ever heard of. It doesn't get wrapped up in the fact that one of the main characters is a vampire, it's just something that has to be dealt with like any other problem. The way the characters interact is surprisingly realistic- there are embarrassing relatives and tricks that are meant to look cool that just don't work, which leaves the film with a lovely sense of not taking itself too seriously for the most part.<br /><br />The other area that really stood out to me is the languages. The fictional city of Mallepa contains various cultural groups, and characters speak the language that they would be expected to speak. Japanese gang members speak Japanese to each other, but Chinese when talking to characters of Chinese descent. Possibly the most amusing exchange involves an Australian and is conducted in English. The actors of the four arguably main characters have three separate mother tongues between them and speak varying levels of each others' languages, so it's quite a feat that the movie was made at all. Which, I suppose, brings me to the lead actors.<br /><br />Much has been made of the fact that the movie stars two of Japan's biggest rockstars, Gackt and Hyde, as well as Taiwanese superstar Lee-hom Wang, whether it is to praise them for their acting or criticise it or simply fangirl about them. In my opinion, Lee-hom is the best at playing a straight and realistic character. However, any lack of acting ability on Gackt's part is mostly masked by the fact that the character he plays is prone to being over-dramatic. I wasn't sure if Hyde's character was supposed to be as sulky and sarcastic as he came across, but it doesn't really detract from the movie either way.<br /><br />There are several scenes which take rather melodramatic turns, which made it difficult for them to affect me much emotionally (Although this doesn't seem to stop a lot of people). I found it's best to just enjoy the movie for what it is and not take it too seriously- It's perfect for getting out and watching with a group of friends. It does have its flaws, but overall it was very enjoyable and I'd highly recommend it to anyone who doesn't mind a few subtitles.\n",
      "Classifications:\n",
      "acting: 0.990\n",
      "video, visuals: 0.466\n",
      "plot, script: 0.453\n",
      "sounds, music: 0.359\n",
      "directing: 0.308\n",
      "\n",
      "Input Text: This movie was on the Romance channel, and I thought it might be a goofy 80's movie that would be enjoyable on some level, so my brother and I watched it. Boy did it suck. Boy gets crush on girl--correction, his *dream*-girl (apparently there is a difference; and I'm surprised he realized she was his dream girl--he was smitten with her from over 30 feet away. I guess that just goes to show the power of dream-girls), boy ends up masquerading as a female to be near dream-girl (creative in the sense that it's a far-out plan, but un-creative in the sense that there are probably better solutions one might think up), awkward situations ensue, a match is made (all of which takes seems to take place around late afternoon--either the location was somehow responsible for this odd lighting, or the actors had to wait until they got off of their day-jobs to come to the set; I suspect the latter). Very clumsily done, very pathetic. It's almost never even amusing *accidentally*, so there really is nothing to redeem it. Unless you're interested in seeing Chad Lowe's early days, before he finally got his piece of the pie with his role as the HIV-positive gay guy on the series 'Life Goes On', or Gail O'Grady who was on NYPD Blue and probably got to stare at Dennis Franz's buttocks). But those are unlikely motives--I'd say 'systematic derangement of the senses' would be a more justified purpose. I'm surprised I watched it all. I guess it's the kind of thing where, halfway through, you find yourself *still* watching due to some morbid, self-flagellistic inner-issue, and think you might as well finish it so you can tell your friends and family that you actually sat through such a horrible movie, on the off-chance that it'll garner you some sympathy for the questionable state of your mental health. Can *You* Take the Challenge?\n",
      "Classifications:\n",
      "acting: 0.756\n",
      "plot, script: 0.484\n",
      "video, visuals: 0.356\n",
      "sounds, music: 0.033\n",
      "directing: 0.029\n",
      "\n",
      "Input Text: This movie is all ultra-lightweight fluff, predictable from beginning to end. As a Don Knotts vehicle, 'The Incredible Mr. Limpet' was much better, with Knott's character there not nearly as incompetent or ignorant. His performance there was toned down, with none of his trademark goggle-eyed stare, although that may have something to do with him being replaced for most of the movie by a cartoon fish. Knotts made a living of playing the likable imbecile, much as Bob Denver did. Neither really seemed to be able to break out to other types of roles, assuming they were simply typecast. It was probably because of the slouch, the wild stare and the high-pitched voice. John Ritter, whom Knotts worked with in 'Three's Company,' was able to transcend his genre, branching out successfully into dramatic roles like 'The Dreamer of Oz,' but the closest Knotts ever got was a small role in 'Pleasantville.' Even Leslie Nielsen was a bad fit here, uncomfortably neither straight dramatic actor as he was at the time nor deadpan comedic actor as he later became in 'Airplane!' and 'Police Squad.'<br /><br />There's also no way the then-43 year-old Knotts could pass for a 35 year-old, as his character insisted he was. It was as ludicrously unbelievable as Tom Hanks at 38 playing the college-age Forrest Gump.<br /><br />The film was clearly made on a shoestring budget, very much looking like a hastily-filmed TV episode. It's especially evident in the 'exterior' scenes of the 'town' where Roy goes after he's fired. It's unlikely even a pre-schooler would be fooled by the Mayberry-like soundstage artificiality.<br /><br />Even viewing this strictly as a children's movie, it's very disappointing. It's not because it lacks action or special effects, although it does. The pace is much too slow, the situations repetitive. How many times can you watch Roy getting onto a bus? A comedy for kids should at least sometimes be madcap, with breakneck gags, otherwise you risk boring them (and any adults in the theater as well). Movies, even kid's movies, have improved quite a bit in the intervening decades. Even many contemporary comedies were better filmed and written. Disney's 'The Love Bug,' for instance, at least had some interesting race action.\n",
      "Classifications:\n",
      "acting: 0.917\n",
      "plot, script: 0.888\n",
      "video, visuals: 0.632\n",
      "directing: 0.471\n",
      "sounds, music: 0.461\n"
     ]
    }
   ],
   "source": [
    "reviews = []\n",
    "for review, label in review_label:\n",
    "    #data = (tf.reshape(review, [1,]), tf.constant([\"directing\"]))\n",
    "    result = classifier(review, class_descriptions, multi_label=True)\n",
    "\n",
    "    # Print the results\n",
    "    print(\"\\nInput Text:\", review)\n",
    "    print(\"Classifications:\")\n",
    "    for label, score in zip(result[\"labels\"], result[\"scores\"]):\n",
    "        print(f\"{label}: {score:.3f}\")"
   ]
  },
  {
   "cell_type": "code",
   "execution_count": 18,
   "id": "f9b0e428-ff27-45da-9db8-01986ff7d8ae",
   "metadata": {},
   "outputs": [
    {
     "data": {
      "text/plain": [
       "(<tf.Tensor: shape=(1,), dtype=string, numpy=\n",
       " array([b\"Journalist Bob Woodward's blistering, scattershot and sometimes suspect account of actor John Belushi's rise and fall becomes a wholly misjudged movie, a nebulous 'fantasy' directed by Larry Peerce as if he were doing something edgy and vital. Michael Chiklis (years before his breakthrough on 'The Shield') is put in the unenviable position of portraying Belushi, taking a post-mortem trip through his life, recreating those 'Saturday Night Live' skits which are now part of TV history. It's like watching someone try to out-Lucy Lucille Ball--it can't be done. The reason why there was such sorrow at Belushi's death was because he was one of a kind. Chiklis makes a commendable attempt at looking the part, and he's funny in an early scene trying to escape from the morgue. Still, it's an uphill venture and no actor--no matter how talented--could have saved it. * from ****\"],\n",
       "       dtype=object)>,\n",
       " <tf.Tensor: shape=(1,), dtype=string, numpy=array([b'video, visuals'], dtype=object)>)"
      ]
     },
     "execution_count": 18,
     "metadata": {},
     "output_type": "execute_result"
    }
   ],
   "source": [
    "data"
   ]
  },
  {
   "cell_type": "code",
   "execution_count": 22,
   "id": "43759ea3-d031-4bad-94d6-9dd933e9b75e",
   "metadata": {},
   "outputs": [],
   "source": [
    "batch = (np.array(top_topics[i]) for i in range(len(top_topics)))"
   ]
  },
  {
   "cell_type": "code",
   "execution_count": 23,
   "id": "ea997dc4-cc3f-41eb-98f2-df5fa2750788",
   "metadata": {},
   "outputs": [
    {
     "data": {
      "text/plain": [
       "[array('acting', dtype='<U6'),\n",
       " array('directing', dtype='<U9'),\n",
       " array('video, visuals', dtype='<U14')]"
      ]
     },
     "execution_count": 23,
     "metadata": {},
     "output_type": "execute_result"
    }
   ],
   "source": [
    "list(batch)"
   ]
  },
  {
   "cell_type": "code",
   "execution_count": null,
   "id": "b689d1ed-0911-4fd6-8068-7f5e5f2be956",
   "metadata": {},
   "outputs": [],
   "source": []
  }
 ],
 "metadata": {
  "kernelspec": {
   "display_name": "Python 3 (ipykernel)",
   "language": "python",
   "name": "python3"
  },
  "language_info": {
   "codemirror_mode": {
    "name": "ipython",
    "version": 3
   },
   "file_extension": ".py",
   "mimetype": "text/x-python",
   "name": "python",
   "nbconvert_exporter": "python",
   "pygments_lexer": "ipython3",
   "version": "3.11.7"
  }
 },
 "nbformat": 4,
 "nbformat_minor": 5
}
